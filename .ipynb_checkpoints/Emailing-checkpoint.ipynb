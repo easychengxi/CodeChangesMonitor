{
 "cells": [
  {
   "cell_type": "code",
   "execution_count": 34,
   "id": "343a7aae",
   "metadata": {},
   "outputs": [],
   "source": [
    "import smtplib\n",
    "\n",
    "class SendEmail:\n",
    "    def __init__(self,web):\n",
    "        self.gmail_user = 'chengxi.gao@gmail.com'\n",
    "        self.gmail_password = 'chengxi89'\n",
    "        self.to = ['chengxi.gao@mcg.com']\n",
    "        self.subject = 'test'\n",
    "        self.body = \"\"\"\n",
    "Web page:\n",
    "%s \n",
    "has updates\n",
    "\"\"\" %web\n",
    "        self.sent_from = self.gmail_user\n",
    "        self.email_text = \"\"\"\\\n",
    "From: %s\n",
    "To: %s\n",
    "Subject: %s\n",
    "\n",
    "%s\n",
    "\"\"\" % (self.sent_from, \", \".join(self.to), self.subject, self.body)\n",
    "\n",
    "    def emailout(self):\n",
    "        try:\n",
    "            self.smtp_server = smtplib.SMTP_SSL('smtp.gmail.com', 465)\n",
    "            self.smtp_server.ehlo()\n",
    "            self.smtp_server.login(self.gmail_user, self.gmail_password)\n",
    "            self.smtp_server.sendmail(self.sent_from, self.to, self.email_text)\n",
    "            self.smtp_server.close()\n",
    "            print (\"Email sent successfully!\")\n",
    "        except Exception as ex:\n",
    "            print (\"Something went wrong….\",ex)\n",
    "    "
   ]
  },
  {
   "cell_type": "code",
   "execution_count": 32,
   "id": "1af5dc44",
   "metadata": {},
   "outputs": [
    {
     "name": "stdout",
     "output_type": "stream",
     "text": [
      "Email sent successfully!\n",
      "Email sent successfully!\n"
     ]
    }
   ],
   "source": [
    "weba = 'http://localhost:8888/notebooks/Documents/Python%20Scripts/Web%20Monitor.ipynb'\n",
    "webb = 'https://docs.google.com/document/d/1DMAZd8fF4DO0xS37Hg94UbmmEOJUVE1mOwyZ_cLJn38/edit'\n",
    "a=SendEmail(weba)\n",
    "b=SendEmail(webb)\n",
    "a.emailout()\n",
    "b.emailout()"
   ]
  },
  {
   "cell_type": "code",
   "execution_count": 35,
   "id": "f8bfda6f",
   "metadata": {},
   "outputs": [
    {
     "name": "stdout",
     "output_type": "stream",
     "text": [
      "Email sent successfully!\n",
      "Email sent successfully!\n"
     ]
    }
   ],
   "source": [
    "weba = 'http://localhost:8888/notebooks/Documents/Python%20Scripts/Web%20Monitor.ipynb'\n",
    "webb = 'https://docs.google.com/document/d/1DMAZd8fF4DO0xS37Hg94UbmmEOJUVE1mOwyZ_cLJn38/edit'\n",
    "SendEmail(weba).emailout()\n",
    "SendEmail(webb).emailout()"
   ]
  }
 ],
 "metadata": {
  "kernelspec": {
   "display_name": "Python 3",
   "language": "python",
   "name": "python3"
  },
  "language_info": {
   "codemirror_mode": {
    "name": "ipython",
    "version": 3
   },
   "file_extension": ".py",
   "mimetype": "text/x-python",
   "name": "python",
   "nbconvert_exporter": "python",
   "pygments_lexer": "ipython3",
   "version": "3.8.8"
  }
 },
 "nbformat": 4,
 "nbformat_minor": 5
}
